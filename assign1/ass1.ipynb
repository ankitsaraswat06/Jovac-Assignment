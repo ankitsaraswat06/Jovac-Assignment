{
 "cells": [
  {
   "cell_type": "markdown",
   "id": "a85133dd",
   "metadata": {},
   "source": [
    "# q1 . write your own coustom exception"
   ]
  },
  {
   "cell_type": "code",
   "execution_count": 2,
   "id": "02fe9124",
   "metadata": {},
   "outputs": [],
   "source": [
    "class AgeTooSmallError(Exception):\n",
    "    \"\"\"Custom Exception: Raised when age is less than the required limit.\"\"\"\n",
    "    def __init__(self, message=\"Age is too small. Must be at least 18.\"):\n",
    "        self.message = message\n",
    "        super().__init__(self.message)\n"
   ]
  },
  {
   "cell_type": "code",
   "execution_count": 3,
   "id": "7f84462b",
   "metadata": {},
   "outputs": [],
   "source": [
    "\n",
    "\n",
    "def check_age(age):\n",
    "    if age < 18:\n",
    "        raise AgeTooSmallError(f\"Entered age {age} is too small!\")\n",
    "    else:\n",
    "        print(\"Age is valid. You can proceed.\")"
   ]
  },
  {
   "cell_type": "code",
   "execution_count": 4,
   "id": "16f239e6",
   "metadata": {},
   "outputs": [
    {
     "name": "stdout",
     "output_type": "stream",
     "text": [
      "Custom Exception Caught: Entered age 13 is too small!\n"
     ]
    }
   ],
   "source": [
    "try:\n",
    "    user_age = int(input(\"Enter your age: \"))\n",
    "    check_age(user_age)\n",
    "except AgeTooSmallError as e:\n",
    "    print(\"Custom Exception Caught:\", e)"
   ]
  },
  {
   "cell_type": "code",
   "execution_count": 5,
   "id": "c36909fe",
   "metadata": {},
   "outputs": [
    {
     "name": "stdout",
     "output_type": "stream",
     "text": [
      "Custom Exception Caught: Division by zero is not allowed.\n"
     ]
    }
   ],
   "source": [
    "# example 2\n",
    "class MyCustomError(Exception):\n",
    "    def __init__(self, message):\n",
    "        super().__init__(message)\n",
    "def divide_numbers(a, b):\n",
    "    if b == 0:\n",
    "        raise MyCustomError(\"Division by zero is not allowed.\")\n",
    "    return a / b\n",
    "try:\n",
    "    result = divide_numbers(10, 0)\n",
    "    print(\"Result:\", result)\n",
    "except MyCustomError as e:\n",
    "    print(\"Custom Exception Caught:\", e)"
   ]
  },
  {
   "cell_type": "markdown",
   "id": "3d3aced7",
   "metadata": {},
   "source": [
    "QUESTION 2\n",
    "Make a 2-d array and read and write it in a csv format."
   ]
  },
  {
   "cell_type": "code",
   "execution_count": 6,
   "id": "7ca2143e",
   "metadata": {},
   "outputs": [],
   "source": [
    "import numpy as np\n",
    "import csv"
   ]
  },
  {
   "cell_type": "code",
   "execution_count": 7,
   "id": "4c96d9fa",
   "metadata": {},
   "outputs": [],
   "source": [
    "arr = np.array([[100, 200, 300],\n",
    "                [400, 500, 600],\n",
    "                [700, 800, 900]])"
   ]
  },
  {
   "cell_type": "code",
   "execution_count": 8,
   "id": "feefde81",
   "metadata": {},
   "outputs": [
    {
     "name": "stdout",
     "output_type": "stream",
     "text": [
      "Array written to 'array.csv'\n"
     ]
    }
   ],
   "source": [
    "\n",
    "with open('array.csv', 'w', newline='') as f1:\n",
    "    writer = csv.writer(f1)\n",
    "    writer.writerows(arr)\n",
    "print(\"Array written to 'array.csv'\")"
   ]
  },
  {
   "cell_type": "code",
   "execution_count": 9,
   "id": "2d0bc054",
   "metadata": {},
   "outputs": [],
   "source": [
    "# Read array back from CSV\n",
    "new_arr = []\n",
    "with open('array.csv', 'r') as f1:\n",
    "    reader = csv.reader(f1)\n",
    "    for row in reader:\n",
    "        new_arr.append([int(x) for x in row])"
   ]
  },
  {
   "cell_type": "code",
   "execution_count": 10,
   "id": "64d8b2f9",
   "metadata": {},
   "outputs": [
    {
     "name": "stdout",
     "output_type": "stream",
     "text": [
      "Array read from 'my_array.csv':\n",
      "[[100 200 300]\n",
      " [400 500 600]\n",
      " [700 800 900]]\n"
     ]
    }
   ],
   "source": [
    "new_arr = np.array(new_arr)\n",
    "print(\"Array read from 'my_array.csv':\")\n",
    "print(new_arr)"
   ]
  }
 ],
 "metadata": {
  "kernelspec": {
   "display_name": "Python 3",
   "language": "python",
   "name": "python3"
  },
  "language_info": {
   "codemirror_mode": {
    "name": "ipython",
    "version": 3
   },
   "file_extension": ".py",
   "mimetype": "text/x-python",
   "name": "python",
   "nbconvert_exporter": "python",
   "pygments_lexer": "ipython3",
   "version": "3.12.1"
  }
 },
 "nbformat": 4,
 "nbformat_minor": 5
}
