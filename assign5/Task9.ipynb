{
 "cells": [
  {
   "cell_type": "code",
   "execution_count": null,
   "id": "542fc197",
   "metadata": {},
   "outputs": [
    {
     "name": "stdout",
     "output_type": "stream",
     "text": [
      "\n",
      "Decision Tree Performance:\n",
      "Accuracy : 0.713\n",
      "F1-Score : 0.672\n",
      "\n",
      "Random Forest Performance:\n",
      "Accuracy : 0.776\n",
      "F1-Score : 0.738\n",
      "\n",
      "AdaBoost Performance:\n",
      "Accuracy : 0.818\n",
      "F1-Score : 0.772\n"
     ]
    }
   ],
   "source": [
    "# Task 9: AdaBoost or Gradient Boosting\n",
    "\n",
    "# Step 1: Imports\n",
    "import pandas as pd\n",
    "import seaborn as sns\n",
    "from sklearn.model_selection import train_test_split\n",
    "from sklearn.ensemble import AdaBoostClassifier, RandomForestClassifier\n",
    "from sklearn.tree import DecisionTreeClassifier\n",
    "from sklearn.metrics import accuracy_score, f1_score\n",
    "\n",
    "# Step 2: Load and preprocess Titanic dataset\n",
    "df = sns.load_dataset(\"titanic\")\n",
    "df = df.dropna(subset=[\"age\", \"embarked\", \"sex\", \"fare\", \"survived\"])\n",
    "df[\"sex\"] = df[\"sex\"].map({\"male\": 0, \"female\": 1})\n",
    "df[\"embarked\"] = df[\"embarked\"].map({\"S\": 0, \"C\": 1, \"Q\": 2})\n",
    "\n",
    "X = df[[\"pclass\", \"sex\", \"age\", \"fare\", \"embarked\"]]\n",
    "y = df[\"survived\"]\n",
    "\n",
    "X_train, X_test, y_train, y_test = train_test_split(X, y, test_size=0.2, random_state=42)\n",
    "\n",
    "# Step 3: Initialize models\n",
    "dt = DecisionTreeClassifier(max_depth=4, random_state=42)\n",
    "rf = RandomForestClassifier(n_estimators=100, random_state=42)\n",
    "ada = AdaBoostClassifier(n_estimators=100, random_state=42)\n",
    "\n",
    "# Step 4: Fit models\n",
    "dt.fit(X_train, y_train)\n",
    "rf.fit(X_train, y_train)\n",
    "ada.fit(X_train, y_train)\n",
    "\n",
    "# Step 5: Evaluate models\n",
    "def evaluate_booster(name, model):\n",
    "    y_pred = model.predict(X_test)\n",
    "    acc = accuracy_score(y_test, y_pred)\n",
    "    f1 = f1_score(y_test, y_pred)\n",
    "    print(f\"\\n{name} Performance:\")\n",
    "    print(f\"Accuracy : {acc:.3f}\")\n",
    "    print(f\"F1-Score : {f1:.3f}\")\n",
    "\n",
    "evaluate_booster(\"Decision Tree\", dt)\n",
    "evaluate_booster(\"Random Forest\", rf)\n",
    "evaluate_booster(\"AdaBoost\", ada)\n"
   ]
  },
  {
   "cell_type": "code",
   "execution_count": null,
   "id": "25d48d7e",
   "metadata": {},
   "outputs": [],
   "source": []
  }
 ],
 "metadata": {
  "kernelspec": {
   "display_name": "Python 3",
   "language": "python",
   "name": "python3"
  },
  "language_info": {
   "codemirror_mode": {
    "name": "ipython",
    "version": 3
   },
   "file_extension": ".py",
   "mimetype": "text/x-python",
   "name": "python",
   "nbconvert_exporter": "python",
   "pygments_lexer": "ipython3",
   "version": "3.13.2"
  }
 },
 "nbformat": 4,
 "nbformat_minor": 5
}
