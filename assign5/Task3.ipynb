{
 "cells": [
  {
   "cell_type": "code",
   "execution_count": null,
   "id": "8dcf64ed",
   "metadata": {},
   "outputs": [
    {
     "name": "stdout",
     "output_type": "stream",
     "text": [
      "🔹 GaussianNB Accuracy: 1.0\n",
      "Classification Report:\n",
      "               precision    recall  f1-score   support\n",
      "\n",
      "           0       1.00      1.00      1.00        10\n",
      "           1       1.00      1.00      1.00         9\n",
      "           2       1.00      1.00      1.00        11\n",
      "\n",
      "    accuracy                           1.00        30\n",
      "   macro avg       1.00      1.00      1.00        30\n",
      "weighted avg       1.00      1.00      1.00        30\n",
      "\n",
      "🔹 Logistic Regression Accuracy: 1.0\n",
      "🔹 Decision Tree Accuracy: 1.0\n",
      "\n",
      "📊 Brief Comparison:\n",
      "- GaussianNB is fast and does well with normally distributed features.\n",
      "- Logistic Regression also performs well and is good for interpreting weights.\n",
      "- Decision Tree may fit training data better but risks overfitting.\n",
      "\n"
     ]
    }
   ],
   "source": [
    "# Task 3: GaussianNB with Iris or Wine Dataset\n",
    "\n",
    "# Step 1: Import Libraries\n",
    "from sklearn.datasets import load_iris\n",
    "from sklearn.model_selection import train_test_split\n",
    "from sklearn.naive_bayes import GaussianNB\n",
    "from sklearn.linear_model import LogisticRegression\n",
    "from sklearn.tree import DecisionTreeClassifier\n",
    "from sklearn.metrics import accuracy_score, classification_report\n",
    "\n",
    "# Step 2: Load Dataset\n",
    "iris = load_iris()\n",
    "X = iris.data\n",
    "y = iris.target\n",
    "\n",
    "# Step 3: Train-Test Split\n",
    "X_train, X_test, y_train, y_test = train_test_split(X, y, test_size=0.2, random_state=42)\n",
    "\n",
    "# Step 4: Train GaussianNB\n",
    "gnb = GaussianNB()\n",
    "gnb.fit(X_train, y_train)\n",
    "y_pred_gnb = gnb.predict(X_test)\n",
    "\n",
    "# Step 5: Evaluate GaussianNB\n",
    "print(\"🔹 GaussianNB Accuracy:\", accuracy_score(y_test, y_pred_gnb))\n",
    "print(\"Classification Report:\\n\", classification_report(y_test, y_pred_gnb))\n",
    "\n",
    "# Step 6: Compare with Logistic Regression and Decision Tree\n",
    "# Logistic Regression\n",
    "lr = LogisticRegression(max_iter=200)\n",
    "lr.fit(X_train, y_train)\n",
    "y_pred_lr = lr.predict(X_test)\n",
    "print(\"🔹 Logistic Regression Accuracy:\", accuracy_score(y_test, y_pred_lr))\n",
    "\n",
    "# Decision Tree\n",
    "dt = DecisionTreeClassifier()\n",
    "dt.fit(X_train, y_train)\n",
    "y_pred_dt = dt.predict(X_test)\n",
    "print(\"🔹 Decision Tree Accuracy:\", accuracy_score(y_test, y_pred_dt))\n",
    "\n",
    "# Step 7: Brief Comparison\n",
    "print(\"\"\"\n",
    "📊 Brief Comparison:\n",
    "- GaussianNB is fast and does well with normally distributed features.\n",
    "- Logistic Regression also performs well and is good for interpreting weights.\n",
    "- Decision Tree may fit training data better but risks overfitting.\n",
    "\"\"\")\n"
   ]
  },
  {
   "cell_type": "code",
   "execution_count": null,
   "id": "16187923",
   "metadata": {},
   "outputs": [],
   "source": []
  }
 ],
 "metadata": {
  "kernelspec": {
   "display_name": "Python 3",
   "language": "python",
   "name": "python3"
  },
  "language_info": {
   "codemirror_mode": {
    "name": "ipython",
    "version": 3
   },
   "file_extension": ".py",
   "mimetype": "text/x-python",
   "name": "python",
   "nbconvert_exporter": "python",
   "pygments_lexer": "ipython3",
   "version": "3.13.2"
  }
 },
 "nbformat": 4,
 "nbformat_minor": 5
}
