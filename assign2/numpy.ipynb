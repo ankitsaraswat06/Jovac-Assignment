{
 "cells": [
  {
   "cell_type": "markdown",
   "id": "48031c59",
   "metadata": {},
   "source": [
    "Task 1: Creating Arrays \n",
    "1. Write a Python program to:  \n",
    "    o Create a 1D NumPy array of 10 integers ranging from 1 to 10. \n",
    "    o Create a 2D NumPy array of shape (3, 3) with integers from 1 to 9. \n",
    "    o Create a 3D NumPy array with random floating-point numbers of shape (3, 5, 3). \n",
    "2. Display the shape, size, and datatype of each array."
   ]
  },
  {
   "cell_type": "code",
   "execution_count": 10,
   "id": "bdc8d48e",
   "metadata": {},
   "outputs": [],
   "source": [
    "import numpy as np"
   ]
  },
  {
   "cell_type": "code",
   "execution_count": 11,
   "id": "d4ffd401",
   "metadata": {},
   "outputs": [
    {
     "name": "stdout",
     "output_type": "stream",
     "text": [
      "[ 1  2  3  4  5  6  7  8  9 10]\n"
     ]
    }
   ],
   "source": [
    "a1 = np.arange(1,11)\n",
    "print(a1)"
   ]
  },
  {
   "cell_type": "code",
   "execution_count": 12,
   "id": "23b25bfd",
   "metadata": {},
   "outputs": [
    {
     "name": "stdout",
     "output_type": "stream",
     "text": [
      "(10,) 10 1\n"
     ]
    }
   ],
   "source": [
    "print(a1.shape , a1.size , a1.ndim)"
   ]
  },
  {
   "cell_type": "code",
   "execution_count": 13,
   "id": "e6993983",
   "metadata": {},
   "outputs": [
    {
     "data": {
      "text/plain": [
       "array([[1, 2, 3],\n",
       "       [4, 5, 6],\n",
       "       [7, 8, 9]])"
      ]
     },
     "execution_count": 13,
     "metadata": {},
     "output_type": "execute_result"
    }
   ],
   "source": [
    "a2 = np.arange(1,10).reshape(3,3)\n",
    "a2"
   ]
  },
  {
   "cell_type": "code",
   "execution_count": 14,
   "id": "0521b5b0",
   "metadata": {},
   "outputs": [
    {
     "name": "stdout",
     "output_type": "stream",
     "text": [
      "(3, 3) 9 2\n"
     ]
    }
   ],
   "source": [
    "print(a2.shape , a2.size , a2.ndim)"
   ]
  },
  {
   "cell_type": "code",
   "execution_count": 15,
   "id": "8005ba54",
   "metadata": {},
   "outputs": [
    {
     "name": "stdout",
     "output_type": "stream",
     "text": [
      "[[1 2 3]\n",
      " [4 5 6]\n",
      " [7 8 9]]\n"
     ]
    }
   ],
   "source": [
    "print(a2)"
   ]
  },
  {
   "cell_type": "code",
   "execution_count": 16,
   "id": "16565406",
   "metadata": {},
   "outputs": [],
   "source": [
    "a3 = np.random.rand(3,5,3)"
   ]
  },
  {
   "cell_type": "code",
   "execution_count": 17,
   "id": "ca4d4295",
   "metadata": {},
   "outputs": [
    {
     "data": {
      "text/plain": [
       "array([[[0.13255505, 0.88876278, 0.46093153],\n",
       "        [0.45134818, 0.44160987, 0.8368039 ],\n",
       "        [0.27384891, 0.3275432 , 0.96066941],\n",
       "        [0.02726519, 0.37299775, 0.15931793],\n",
       "        [0.27062416, 0.12001567, 0.88114832]],\n",
       "\n",
       "       [[0.23107148, 0.87782175, 0.1916329 ],\n",
       "        [0.76026807, 0.75858866, 0.88779498],\n",
       "        [0.9294255 , 0.86856177, 0.27118805],\n",
       "        [0.31444864, 0.82513263, 0.18697136],\n",
       "        [0.31170092, 0.98409299, 0.74235051]],\n",
       "\n",
       "       [[0.58735993, 0.01414603, 0.1567513 ],\n",
       "        [0.58396972, 0.31096733, 0.33964101],\n",
       "        [0.3909581 , 0.81663523, 0.39180021],\n",
       "        [0.6199419 , 0.87961117, 0.4747494 ],\n",
       "        [0.47461147, 0.38363582, 0.4732006 ]]])"
      ]
     },
     "execution_count": 17,
     "metadata": {},
     "output_type": "execute_result"
    }
   ],
   "source": [
    "a3"
   ]
  },
  {
   "cell_type": "code",
   "execution_count": 18,
   "id": "7ecaced2",
   "metadata": {},
   "outputs": [
    {
     "name": "stdout",
     "output_type": "stream",
     "text": [
      "(3, 5, 3) 45 3\n"
     ]
    }
   ],
   "source": [
    "\n",
    "print(a3.shape , a3.size , a3.ndim)"
   ]
  },
  {
   "cell_type": "markdown",
   "id": "a8bd2252",
   "metadata": {},
   "source": [
    "Task 2: Array Indexing and Slicing \n",
    "1. Create a NumPy array from the following list:  \n",
    "data = [10, 20, 30, 40, 50, 60, 70, 80, 90] \n",
    "2. Write a Python program to:  \n",
    "o Retrieve the first three elements of the array. \n",
    "o Retrieve every alternate element of the array. \n",
    "o Reverse the array. \n",
    "3. Perform the above operations and display the results. "
   ]
  },
  {
   "cell_type": "code",
   "execution_count": 19,
   "id": "b07ea09e",
   "metadata": {},
   "outputs": [],
   "source": [
    "data = [10, 20, 30, 40, 50, 60, 70, 80, 90]\n",
    "arr = np.array(data)"
   ]
  },
  {
   "cell_type": "code",
   "execution_count": 20,
   "id": "c84ae22e",
   "metadata": {},
   "outputs": [
    {
     "data": {
      "text/plain": [
       "array([10, 20, 30, 40, 50, 60, 70, 80, 90])"
      ]
     },
     "execution_count": 20,
     "metadata": {},
     "output_type": "execute_result"
    }
   ],
   "source": [
    "arr"
   ]
  },
  {
   "cell_type": "code",
   "execution_count": 21,
   "id": "6b839190",
   "metadata": {},
   "outputs": [
    {
     "data": {
      "text/plain": [
       "array([10, 20, 30])"
      ]
     },
     "execution_count": 21,
     "metadata": {},
     "output_type": "execute_result"
    }
   ],
   "source": [
    "first3 = arr[:3]\n",
    "first3"
   ]
  },
  {
   "cell_type": "code",
   "execution_count": 22,
   "id": "16ce723b",
   "metadata": {},
   "outputs": [
    {
     "data": {
      "text/plain": [
       "array([10, 20, 30])"
      ]
     },
     "execution_count": 22,
     "metadata": {},
     "output_type": "execute_result"
    }
   ],
   "source": [
    "first3 = arr[:3]\n",
    "first3"
   ]
  },
  {
   "cell_type": "code",
   "execution_count": 23,
   "id": "d3bd50ee",
   "metadata": {},
   "outputs": [
    {
     "data": {
      "text/plain": [
       "array([90, 80, 70, 60, 50, 40, 30, 20, 10])"
      ]
     },
     "execution_count": 23,
     "metadata": {},
     "output_type": "execute_result"
    }
   ],
   "source": [
    "rev = arr[: : -1]\n",
    "rev"
   ]
  },
  {
   "cell_type": "markdown",
   "id": "ce8561e8",
   "metadata": {},
   "source": [
    "Task 3: Mathematical Operations \n",
    "1. Create two NumPy arrays, A and B, each with 5 random integers \n",
    "between 1 and 20. \n",
    "2. Write a Python program to:  \n",
    "o Add, subtract, multiply, and divide the two arrays element\n",
    "wise. \n",
    "o Compute the dot product of the arrays. \n",
    "o Find the mean, median, standard deviation, and variance of \n",
    "array A. \n",
    "o Identify the maximum and minimum values in array B and \n",
    "their indices. "
   ]
  },
  {
   "cell_type": "code",
   "execution_count": 24,
   "id": "31039b66",
   "metadata": {},
   "outputs": [],
   "source": [
    "A = np.random.randint(1, 21, size=5)\n",
    "B = np.random.randint(1, 21, size=5)"
   ]
  },
  {
   "cell_type": "code",
   "execution_count": 25,
   "id": "96610332",
   "metadata": {},
   "outputs": [
    {
     "name": "stdout",
     "output_type": "stream",
     "text": [
      "[19 17 19 17 15]\n",
      "[19  4  1 14 17]\n"
     ]
    }
   ],
   "source": [
    "print(A)\n",
    "print(B)"
   ]
  },
  {
   "cell_type": "code",
   "execution_count": 26,
   "id": "2e9d8aff",
   "metadata": {},
   "outputs": [
    {
     "name": "stdout",
     "output_type": "stream",
     "text": [
      "Addition :  [38 21 20 31 32]\n"
     ]
    }
   ],
   "source": [
    "print('Addition : ',A+B)"
   ]
  },
  {
   "cell_type": "code",
   "execution_count": 27,
   "id": "6668ff9d",
   "metadata": {},
   "outputs": [
    {
     "name": "stdout",
     "output_type": "stream",
     "text": [
      "Subtraction :  [ 0 13 18  3 -2]\n",
      "Multiply :  [361  68  19 238 255]\n",
      "Divide : [ 1.          4.25       19.          1.21428571  0.88235294]\n"
     ]
    }
   ],
   "source": [
    "print('Subtraction : ',A-B)\n",
    "print('Multiply : ',A*B)\n",
    "print('Divide :',A/B)"
   ]
  },
  {
   "cell_type": "code",
   "execution_count": 28,
   "id": "edcf5dc2",
   "metadata": {},
   "outputs": [
    {
     "name": "stdout",
     "output_type": "stream",
     "text": [
      "Dot Product =  941\n"
     ]
    }
   ],
   "source": [
    "dot = np.dot(A,B)\n",
    "print(\"Dot Product = \",dot)"
   ]
  },
  {
   "cell_type": "code",
   "execution_count": 29,
   "id": "a26a394f",
   "metadata": {},
   "outputs": [
    {
     "name": "stdout",
     "output_type": "stream",
     "text": [
      "Mean: 17.4\n",
      "Median: 17.0\n",
      "Standard Deviation: 1.4966629547095767\n",
      "Variance: 2.24\n"
     ]
    }
   ],
   "source": [
    "print(\"Mean:\", np.mean(A))\n",
    "print(\"Median:\", np.median(A))\n",
    "print(\"Standard Deviation:\", np.std(A))\n",
    "print(\"Variance:\", np.var(A))"
   ]
  },
  {
   "cell_type": "code",
   "execution_count": 30,
   "id": "b28bcb40",
   "metadata": {},
   "outputs": [],
   "source": [
    "max_val = np.max(B)\n",
    "min_val = np.min(B)\n",
    "max_idx = np.argmax(B)\n",
    "min_idx = np.argmin(B)"
   ]
  },
  {
   "cell_type": "code",
   "execution_count": 31,
   "id": "832198c1",
   "metadata": {},
   "outputs": [
    {
     "name": "stdout",
     "output_type": "stream",
     "text": [
      "Maximum Value: 19 | Index: 0\n",
      "Minimum Value: 1 | Index: 2\n"
     ]
    }
   ],
   "source": [
    "print(\"Maximum Value:\", max_val, \"| Index:\", max_idx)\n",
    "print(\"Minimum Value:\", min_val, \"| Index:\", min_idx)"
   ]
  },
  {
   "cell_type": "markdown",
   "id": "c90e6d21",
   "metadata": {},
   "source": [
    "Task 4: Reshaping and Transposing \n",
    "1. Create a 1D NumPy array of 12 integers ranging from 1 to 12. \n",
    "2. Write a Python program to:  \n",
    "o Reshape the array into a 2D array of shape (4, 3). \n",
    "o Reshape the array into a 3D array of shape (2, 2, 3). \n",
    "o Transpose the reshaped 2D array and display its shape. "
   ]
  },
  {
   "cell_type": "code",
   "execution_count": 32,
   "id": "8c371907",
   "metadata": {},
   "outputs": [
    {
     "data": {
      "text/plain": [
       "array([ 1,  2,  3,  4,  5,  6,  7,  8,  9, 10, 11, 12])"
      ]
     },
     "execution_count": 32,
     "metadata": {},
     "output_type": "execute_result"
    }
   ],
   "source": [
    "array = np.arange(1,13)\n",
    "array"
   ]
  },
  {
   "cell_type": "code",
   "execution_count": 33,
   "id": "0a962582",
   "metadata": {},
   "outputs": [
    {
     "data": {
      "text/plain": [
       "array([[ 1,  2,  3],\n",
       "       [ 4,  5,  6],\n",
       "       [ 7,  8,  9],\n",
       "       [10, 11, 12]])"
      ]
     },
     "execution_count": 33,
     "metadata": {},
     "output_type": "execute_result"
    }
   ],
   "source": [
    "array_2d = array.reshape(4, 3)\n",
    "array_2d"
   ]
  },
  {
   "cell_type": "code",
   "execution_count": 34,
   "id": "4b6dd211",
   "metadata": {},
   "outputs": [
    {
     "data": {
      "text/plain": [
       "array([[[ 1,  2,  3],\n",
       "        [ 4,  5,  6]],\n",
       "\n",
       "       [[ 7,  8,  9],\n",
       "        [10, 11, 12]]])"
      ]
     },
     "execution_count": 34,
     "metadata": {},
     "output_type": "execute_result"
    }
   ],
   "source": [
    "array_3d = array.reshape(2, 2, 3)\n",
    "array_3d"
   ]
  },
  {
   "cell_type": "code",
   "execution_count": 35,
   "id": "537301ed",
   "metadata": {},
   "outputs": [
    {
     "name": "stdout",
     "output_type": "stream",
     "text": [
      "Transpose of 2d array :  [[ 1  4  7 10]\n",
      " [ 2  5  8 11]\n",
      " [ 3  6  9 12]]\n",
      "Shape (3, 4)\n"
     ]
    }
   ],
   "source": [
    "transposed_2d = array_2d.T\n",
    "print(\"Transpose of 2d array : \",transposed_2d)\n",
    "print(\"Shape\", transposed_2d.shape)"
   ]
  },
  {
   "cell_type": "markdown",
   "id": "4309722a",
   "metadata": {},
   "source": [
    "Task 5: Boolean Masking and Filtering \n",
    "1. Create a NumPy array with 15 random integers between 10 and 50. \n",
    "2. Write a Python program to:  \n",
    "o Find all elements greater than 25. \n",
    "o Replace all elements less than 30 with 0. \n",
    "o Count the number of elements divisible by 5."
   ]
  },
  {
   "cell_type": "code",
   "execution_count": 36,
   "id": "e0d7273a",
   "metadata": {},
   "outputs": [
    {
     "data": {
      "text/plain": [
       "array([29, 33, 30, 42, 48, 25, 23, 15, 29, 33, 11, 34, 12, 34, 22])"
      ]
     },
     "execution_count": 36,
     "metadata": {},
     "output_type": "execute_result"
    }
   ],
   "source": [
    "array = np.random.randint(10, 51, size=15)\n",
    "array"
   ]
  },
  {
   "cell_type": "code",
   "execution_count": 37,
   "id": "178208a6",
   "metadata": {},
   "outputs": [
    {
     "name": "stdout",
     "output_type": "stream",
     "text": [
      "Greater then 25 : [29 33 30 42 48 29 33 34 34]\n"
     ]
    }
   ],
   "source": [
    "gt = array[array >25]\n",
    "print(\"Greater then 25 :\",gt)"
   ]
  },
  {
   "cell_type": "code",
   "execution_count": 38,
   "id": "aa83d894",
   "metadata": {},
   "outputs": [
    {
     "name": "stdout",
     "output_type": "stream",
     "text": [
      "Modified array [ 0 33 30 42 48  0  0  0  0 33  0 34  0 34  0]\n"
     ]
    }
   ],
   "source": [
    "mod = np.where(array<30,0,array)\n",
    "print(\"Modified array\",mod)"
   ]
  },
  {
   "cell_type": "code",
   "execution_count": 39,
   "id": "2c75d2bd",
   "metadata": {},
   "outputs": [
    {
     "name": "stdout",
     "output_type": "stream",
     "text": [
      "Number of elements divisible by 5: 3\n"
     ]
    }
   ],
   "source": [
    "div = np.sum(array%5==0)\n",
    "print(\"Number of elements divisible by 5:\",div)"
   ]
  },
  {
   "cell_type": "markdown",
   "id": "e1c7535c",
   "metadata": {},
   "source": [
    "Task 6: Working with Built-in Functions \n",
    "1. Use NumPy's built-in functions to:  \n",
    "o Create an array of 10 equally spaced values between 0 and 1. \n",
    "o Create an identity matrix of size 4x4. \n",
    "o Generate a 1D array of 20 random integers between 1 and 100, \n",
    "sort it, and find the 5 largest elements. "
   ]
  },
  {
   "cell_type": "code",
   "execution_count": 40,
   "id": "b9ea2790",
   "metadata": {},
   "outputs": [
    {
     "name": "stdout",
     "output_type": "stream",
     "text": [
      "10 equally spaced values between 0 and 1 : [0.         0.11111111 0.22222222 0.33333333 0.44444444 0.55555556\n",
      " 0.66666667 0.77777778 0.88888889 1.        ]\n"
     ]
    }
   ],
   "source": [
    "\n",
    "eq_spaced = np.linspace(0, 1, 10)\n",
    "print(\"10 equally spaced values between 0 and 1 :\", eq_spaced)"
   ]
  },
  {
   "cell_type": "code",
   "execution_count": 41,
   "id": "04b882d6",
   "metadata": {},
   "outputs": [
    {
     "name": "stdout",
     "output_type": "stream",
     "text": [
      "Identity matrix (4x4) : [[1. 0. 0. 0.]\n",
      " [0. 1. 0. 0.]\n",
      " [0. 0. 1. 0.]\n",
      " [0. 0. 0. 1.]]\n"
     ]
    }
   ],
   "source": [
    "id_matrix = np.eye(4)\n",
    "print(\"Identity matrix (4x4) :\", id_matrix)"
   ]
  },
  {
   "cell_type": "code",
   "execution_count": 42,
   "id": "7bc7cc70",
   "metadata": {},
   "outputs": [
    {
     "name": "stdout",
     "output_type": "stream",
     "text": [
      "Original Random Array : [  3   8  67  31  19  38  87  87 100  69  30  58  57  87  29  20  36  35\n",
      "  76  37]\n"
     ]
    }
   ],
   "source": [
    "ran_array = np.random.randint(1, 101, size=20)\n",
    "print(\"Original Random Array :\", ran_array)"
   ]
  },
  {
   "cell_type": "code",
   "execution_count": 43,
   "id": "c20533f4",
   "metadata": {},
   "outputs": [
    {
     "name": "stdout",
     "output_type": "stream",
     "text": [
      "5 Largest Elements: [ 76  87  87  87 100]\n"
     ]
    }
   ],
   "source": [
    "sorted = np.sort(ran_array)\n",
    "five_large = sorted[-5:]\n",
    "print(\"5 Largest Elements:\", five_large)"
   ]
  },
  {
   "cell_type": "markdown",
   "id": "ac2f32fe",
   "metadata": {},
   "source": [
    "Task 7: Generic \n",
    "1. Create a Python program that:  \n",
    "o Generates two large random arrays of size (100, 100). \n",
    "o Performs matrix multiplication on the two arrays. \n",
    "o Finds the determinant and inverse of the resulting matrix (if \n",
    "possible). \n",
    "o Measures the time taken to complete these operations. "
   ]
  },
  {
   "cell_type": "code",
   "execution_count": 44,
   "id": "0f6531b5",
   "metadata": {},
   "outputs": [],
   "source": [
    "import time\n",
    "A = np.random.rand(100, 100)\n",
    "B = np.random.rand(100, 100)"
   ]
  },
  {
   "cell_type": "code",
   "execution_count": 45,
   "id": "97356cd0",
   "metadata": {},
   "outputs": [
    {
     "name": "stdout",
     "output_type": "stream",
     "text": [
      "Matrix multiplication completed in 0.0097 seconds.\n",
      "[[25.61282515 22.00118506 24.32243089 ... 23.57930058 25.86241876\n",
      "  21.29869465]\n",
      " [27.054425   22.4346036  27.96470983 ... 25.04875181 28.47779636\n",
      "  25.04279615]\n",
      " [22.13148538 20.5133985  21.39765046 ... 21.23713522 23.36269919\n",
      "  20.68986422]\n",
      " ...\n",
      " [25.78589968 23.38997146 26.46346652 ... 24.62020442 27.59016772\n",
      "  22.78498566]\n",
      " [25.62899058 24.13017038 28.50623433 ... 25.80258519 27.34788802\n",
      "  24.18292752]\n",
      " [22.9646397  20.47634507 23.21741275 ... 23.041136   23.2749328\n",
      "  21.63654793]]\n"
     ]
    }
   ],
   "source": [
    "\n",
    "start_time = time.time()\n",
    "C = np.dot(A, B)\n",
    "mult_time = time.time() - start_time\n",
    "print(\"Matrix multiplication completed in {:.4f} seconds.\".format(mult_time))\n",
    "print(C)"
   ]
  },
  {
   "cell_type": "code",
   "execution_count": 46,
   "id": "c08d2a42",
   "metadata": {},
   "outputs": [
    {
     "name": "stdout",
     "output_type": "stream",
     "text": [
      "Time Taken :  0.0394740104675293\n",
      "Determinant ;  -2.002914586470839e+51\n"
     ]
    }
   ],
   "source": [
    "start_time = time.time()\n",
    "det_C = np.linalg.det(C)\n",
    "det_time = time.time() - start_time\n",
    "print('Time Taken : ',det_time)\n",
    "print(\"Determinant ; \",det_C) "
   ]
  },
  {
   "cell_type": "code",
   "execution_count": 47,
   "id": "ef5153fb",
   "metadata": {},
   "outputs": [
    {
     "name": "stdout",
     "output_type": "stream",
     "text": [
      "Inverse computed in 0.0239 seconds.\n",
      "[[ 0.75451496 -0.0340679   0.30419986 ... -0.13475261 -0.57550847\n",
      "   0.90967178]\n",
      " [-0.88768732  0.00475893 -0.38205937 ... -0.02951586  1.09869005\n",
      "  -1.0873218 ]\n",
      " [-0.42121188  2.30568444 -0.80497567 ... -2.61481047  0.20062463\n",
      "   0.04986676]\n",
      " ...\n",
      " [ 1.94872195 -1.91508492 -0.17250915 ...  1.65397264 -1.50990096\n",
      "   0.57186028]\n",
      " [ 0.64062333 -4.08443482  0.04699229 ...  4.3552219   0.22934888\n",
      "  -0.39208434]\n",
      " [-1.31638835  1.79112406  0.10917324 ... -1.79769195  0.77166313\n",
      "  -0.45949897]]\n"
     ]
    }
   ],
   "source": [
    "if np.isclose(det_C, 0):\n",
    "    print(\"Matrix is singular and cannot be inverted.\")\n",
    "else:\n",
    "    start_time = time.time()\n",
    "    inverse_C = np.linalg.inv(C)\n",
    "    inv_time = time.time() - start_time\n",
    "    print(\"Inverse computed in {:.4f} seconds.\".format(inv_time))\n",
    "    print(inverse_C)"
   ]
  }
 ],
 "metadata": {
  "kernelspec": {
   "display_name": "Python 3",
   "language": "python",
   "name": "python3"
  },
  "language_info": {
   "codemirror_mode": {
    "name": "ipython",
    "version": 3
   },
   "file_extension": ".py",
   "mimetype": "text/x-python",
   "name": "python",
   "nbconvert_exporter": "python",
   "pygments_lexer": "ipython3",
   "version": "3.12.1"
  }
 },
 "nbformat": 4,
 "nbformat_minor": 5
}
